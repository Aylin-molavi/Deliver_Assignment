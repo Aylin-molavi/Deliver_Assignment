{
 "cells": [
  {
   "cell_type": "code",
   "execution_count": 1,
   "metadata": {},
   "outputs": [
    {
     "name": "stderr",
     "output_type": "stream",
     "text": [
      "c:\\Users\\user\\anaconda3\\Lib\\site-packages\\pandas\\core\\arrays\\masked.py:60: UserWarning: Pandas requires version '1.3.6' or newer of 'bottleneck' (version '1.3.5' currently installed).\n",
      "  from pandas.core import (\n"
     ]
    }
   ],
   "source": [
    "import pandas as pd"
   ]
  },
  {
   "cell_type": "code",
   "execution_count": null,
   "metadata": {},
   "outputs": [],
   "source": [
    "with open('Dataset/rosalind_fib.txt', 'r') as file:\n",
    "    dna = file.read()"
   ]
  },
  {
   "cell_type": "code",
   "execution_count": null,
   "metadata": {},
   "outputs": [
    {
     "name": "stdout",
     "output_type": "stream",
     "text": [
      "2442624980786496\n"
     ]
    }
   ],
   "source": [
    "#total number of rabbit pairs after 36 months (n), given that each pair produces 5 new pairs(k) each generation: \n",
    "\n",
    "def rabbit_pairs(n, k):\n",
    "    # number of rabbit pairs for each month\n",
    "    if n == 1:\n",
    "        return 1\n",
    "    elif n == 2:\n",
    "        return 1\n",
    "\n",
    "    # the number of rabbit pairs\n",
    "    F = [0] * (n + 1)\n",
    "    F[1] = 1  # F(1)\n",
    "    F[2] = 1  # F(2)\n",
    "\n",
    "    # Calculating the number of pairs for each month using the recurrence relation\n",
    "    for month in range(3, n + 1):   #At month 3, we can start applying the recurrence relation, generating values from 3 to n\n",
    "        F[month] = F[month - 1] + k * F[month - 2]\n",
    "\n",
    "    return F[n]\n",
    "\n",
    "# Given values\n",
    "n = 36\n",
    "k = 5\n",
    "result = rabbit_pairs(n, k)\n",
    "\n",
    "print(result)\n",
    "\n",
    "\n",
    "#for n==1 and n==2 : F(1)=1 , and for n≥3 : F(n)=F(n−1)+k⋅F(n−2)   . (why we use range 3,n+1)"
   ]
  }
 ],
 "metadata": {
  "kernelspec": {
   "display_name": "base",
   "language": "python",
   "name": "python3"
  },
  "language_info": {
   "codemirror_mode": {
    "name": "ipython",
    "version": 3
   },
   "file_extension": ".py",
   "mimetype": "text/x-python",
   "name": "python",
   "nbconvert_exporter": "python",
   "pygments_lexer": "ipython3",
   "version": "3.11.5"
  }
 },
 "nbformat": 4,
 "nbformat_minor": 2
}
