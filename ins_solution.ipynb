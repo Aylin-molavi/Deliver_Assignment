{
 "cells": [
  {
   "cell_type": "code",
   "execution_count": 1,
   "metadata": {},
   "outputs": [
    {
     "name": "stderr",
     "output_type": "stream",
     "text": [
      "c:\\Users\\user\\anaconda3\\Lib\\site-packages\\pandas\\core\\arrays\\masked.py:60: UserWarning: Pandas requires version '1.3.6' or newer of 'bottleneck' (version '1.3.5' currently installed).\n",
      "  from pandas.core import (\n"
     ]
    }
   ],
   "source": [
    "import pandas as pd"
   ]
  },
  {
   "cell_type": "code",
   "execution_count": null,
   "metadata": {},
   "outputs": [],
   "source": [
    "with open(\"Dataset/rosalind_ins.txt\", \"r\") as file:\n",
    "                content = file.read()\n",
    "                \n",
    "                numbers_str = content.replace('\\n', ' ').split()\n",
    "             \n",
    "                arr = [int(num) for num in numbers_str]\n",
    "                \n",
    "                if arr:  # Check if arr is not empty\n",
    "                        arr.pop(0)"
   ]
  },
  {
   "cell_type": "code",
   "execution_count": null,
   "metadata": {},
   "outputs": [
    {
     "name": "stdout",
     "output_type": "stream",
     "text": [
      "232275\n"
     ]
    }
   ],
   "source": [
    "def insertion_sort_and_count_swaps(arr):\n",
    "    swap_count = 0  # Counter for the swaps\n",
    "\n",
    "    for i in range(1, len(arr)):\n",
    "        key = arr[i]\n",
    "        j = i - 1  #shifting\n",
    "        while j >= 0 and arr[j] > key:\n",
    "            # Shift the element to the right\n",
    "            arr[j + 1] = arr[j]\n",
    "            j -= 1\n",
    "            swap_count += 1  # Count each shift as a swap\n",
    "\n",
    "        arr[j + 1] = key\n",
    "\n",
    "    return swap_count\n",
    "\n",
    "\n",
    "swap_count = insertion_sort_and_count_swaps(arr)\n",
    "\n",
    "print(swap_count)"
   ]
  }
 ],
 "metadata": {
  "kernelspec": {
   "display_name": "base",
   "language": "python",
   "name": "python3"
  },
  "language_info": {
   "codemirror_mode": {
    "name": "ipython",
    "version": 3
   },
   "file_extension": ".py",
   "mimetype": "text/x-python",
   "name": "python",
   "nbconvert_exporter": "python",
   "pygments_lexer": "ipython3",
   "version": "3.11.5"
  }
 },
 "nbformat": 4,
 "nbformat_minor": 2
}
