{
 "cells": [
  {
   "cell_type": "code",
   "execution_count": null,
   "metadata": {},
   "outputs": [],
   "source": [
    "import pandas as pd"
   ]
  },
  {
   "cell_type": "code",
   "execution_count": null,
   "metadata": {},
   "outputs": [],
   "source": [
    "#Bioinformatics Stronghold \n",
    "#RNA\n",
    "def transcribe_nucleotids(str):\n",
    "    if (len(str)>1000):\n",
    "        return \n",
    "    \n",
    "    if(str == \"\"):\n",
    "        return \"\"\n",
    "    else:\n",
    "        if(str[0] == \"T\"):\n",
    "            str = \"U\" + str[1:]   # substring starting from the second character, to the rest of the string\n",
    "        return str[0]+transcribe_nucleotids(str[1:])  #This is the recursive call part, meaning:\n",
    "        #str[0] refers to the first character of the (possibly modified) string\n",
    "        #calls the function again on the remaining part of the string, then the results of each recursive call are combined together.\n",
    "print(transcribe_nucleotids(\"CGGCATACCATGTATAGTCTCGTCGGAAACAGTTGACTACAGGTGGCGGAGATATCTTCACGAACTCGCATTACAGACAGCCTCTGCCAAGCAATACATTCCCTACAGGTCACCGTTAGAATGAAATCTTATCTGTCGCGGGTGACGACGACTCGATTAGGGAGGCGCCTGGTAAAAACGCAGGCAATCCGGTAATTGAATCAGACATACACGTCGCCAACAAGGATTCCTATCGGCCAACGGCCTATCGTATGCCAGAAATCAACGAAAGGAACTCCCTCGACAACGACACGCGTGCACGCGAAGGGAAAAATTATGCTTGCGTGGCCCTTATGGTGTGGTACCTAAGTCCAAAAAGTAGGTCCGTCGAGTATAGCGGAGGCTAGGGCGTTAAGTTTGCATTCAATGGACTCCGACGGTCCTGTTGGATCCATTCCACGCAATTGTAGAACAATCTCCCGAGGCTTAGGTGAGCGTCATTGCTTACGTACCCATTGAATCTAGATCCATCCGCCGTGACGGCAACTGATGTTCGCTGTTGTGCGTGATTCTCCGTTCTCCAGTACTGGAGCACGCTATCTCAGCCGATGTTTCAGGACTAGGTTTTCTACGAAATTTCAAGTGATAATGGCAAGAAAGGGCGCGCTATCGATTTTGGCGCATGTACCGGTACTATATAACTCTCCTATAAGTGTCGATTAAGAATCTTCAGAATGAGGTAATAGCACTAAGAATAGTGACATCTAGCCATGCGTGGCCCGGATTACCGTCTCCCTCTCATGGTGTTCTGGAGTTAGCCTAGAGCTTTTTACCTGCCGCGGGGGTTCAAACATATTTTCCACAAAGGGTCAATGGATTTCTCGTCCAACAGTGCCCTCGATGACGCCGGTTGCCCTCTAATAAATTGAGTGGAGGCCTGCAATATCGTGAGCTACTCAATACGCAAAAGATCACGAT\"))"
   ]
  }
 ],
 "metadata": {
  "kernelspec": {
   "display_name": "base",
   "language": "python",
   "name": "python3"
  },
  "language_info": {
   "name": "python",
   "version": "3.11.5"
  }
 },
 "nbformat": 4,
 "nbformat_minor": 2
}
