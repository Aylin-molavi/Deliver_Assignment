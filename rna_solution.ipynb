{
 "cells": [
  {
   "cell_type": "code",
   "execution_count": null,
   "metadata": {},
   "outputs": [],
   "source": [
    "import pandas as pd"
   ]
  },
  {
   "cell_type": "code",
   "execution_count": 1,
   "metadata": {},
   "outputs": [],
   "source": [
    "# rna txt read\n",
    "\n",
    "with open('Dataset/rosalind_rna.txt', 'r') as file:\n",
    "    rna = file.read()  "
   ]
  },
  {
   "cell_type": "code",
   "execution_count": 3,
   "metadata": {},
   "outputs": [
    {
     "name": "stdout",
     "output_type": "stream",
     "text": [
      "GACAGGGCCGACAAGAGUCUAAAAGGAUCCAGUACGGGGAUGCAUGCUCCCGAGCUCGGGAACAGUUUCUCCGUGAGAGGCCUUUUUCUCUCGUACGCUCCAAGAUGCCAACACUCCUUCCCAGACUGGCUACGAACCUAAUUUGGGUCUUCGCUCCGCGCGCGUCUGUUUGUUGAUCAAUGCAAUGGCCUAGUAUCUACUGGUUUGAGCACCAAGGUGUAGGAAGAAUCGAGAGGAUCUGUAUUAGGUGAGUCGAGGUGAAUAUAACUCAGGGGACCGGGUAGAUGAGCUUUUUCAGCCUUAAAUAUACUUUGCCCCAGGUAUCCAUGGCCCGACAUAAGAGUGACAUGCAUCCCUCAUCUACAAAUCCGUGGGUCCCCGCUGUCUGUUAGAUUAGCCGACGAUAACCAUAUGUAGGCAAGUCGACACACUCGCACAAGGUAUGCACAAUUCGUGGGAUCUAACGAGGAACCGCACCGCACCAGAGGUUCCUGGCGCCGCCCCCUCUCAGUUUACAUGAGAUUAAUCCUACACAACCUGCGGCAAUGGACAUUGUUUCGGUGGCACGAUCCGUCACCAACUCAGUUUUGUCAACCGGAUUCCCGCUUAACAGCGUCGACACCGCCAAACCGCAAAGGCAAUACGGUACAUCCAUACUUCGAACCACUCAGAGUGUGAUACAAAGACUUUUGACGCCGGAGAGCCUCAGUGACCCCGCCAUCCUCGUAUACCUAUAUCAAAGCAGACCAGUAGUAACUGCGGGACAGGCUCGGGUGACGCCGCGGGGCACAAUUGACCUCGUUUACUUGUUUAUAUUAGCCAUAUAGACUCCAAACUGCACAUACCCCCUAGUCUUCUCACCACUUAGGAUUAUGCCAAGUGCUGUAAUUAUACACGUUGUUGGCCCAACCGGUCUUAUGCUUG\n",
      "\n"
     ]
    }
   ],
   "source": [
    "#Bioinformatics Stronghold \n",
    "#RNA\n",
    "def transcribe_nucleotids(str):\n",
    "    if (len(str)>1000):\n",
    "        return \n",
    "    \n",
    "    if(str == \"\"):\n",
    "        return \"\"\n",
    "    else:\n",
    "        if(str[0] == \"T\"):\n",
    "            str = \"U\" + str[1:]   \n",
    "        return str[0]+transcribe_nucleotids(str[1:])  \n",
    "      \n",
    "print(transcribe_nucleotids(rna))"
   ]
  }
 ],
 "metadata": {
  "kernelspec": {
   "display_name": "base",
   "language": "python",
   "name": "python3"
  },
  "language_info": {
   "codemirror_mode": {
    "name": "ipython",
    "version": 3
   },
   "file_extension": ".py",
   "mimetype": "text/x-python",
   "name": "python",
   "nbconvert_exporter": "python",
   "pygments_lexer": "ipython3",
   "version": "3.11.5"
  }
 },
 "nbformat": 4,
 "nbformat_minor": 2
}
