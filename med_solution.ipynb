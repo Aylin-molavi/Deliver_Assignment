{
 "cells": [
  {
   "cell_type": "code",
   "execution_count": null,
   "metadata": {},
   "outputs": [],
   "source": []
  },
  {
   "cell_type": "code",
   "execution_count": 1,
   "metadata": {},
   "outputs": [],
   "source": [
    "with open(\"Dataset/rosalind_med.txt\", \"r\") as file:\n",
    "    n = int(file.readline().strip())  # Read the size of the array\n",
    "    A = list(map(int, file.readline().strip().split()))  # Read the array\n",
    "    k = int(file.readline().strip())  # Read the value of k (it's the position of the element we're looking for)"
   ]
  },
  {
   "cell_type": "code",
   "execution_count": 2,
   "metadata": {},
   "outputs": [
    {
     "name": "stdout",
     "output_type": "stream",
     "text": [
      "-12357\n"
     ]
    }
   ],
   "source": [
    "import random\n",
    "\n",
    "def select(A, k):\n",
    "    if len(A) == 1:  # Base case: if the list is a single element,\n",
    "        return A[0]  #return that 1 element\n",
    "\n",
    "    pivot = random.choice(A)  # Choose a random pivot\n",
    "    less_than = [x for x in A if x < pivot]  # Elements less than pivot\n",
    "    equal_to = [x for x in A if x == pivot]  # equal to pivot\n",
    "    greater_than = [x for x in A if x > pivot]  #greater than pivot\n",
    "\n",
    "    #number of elements in the \"less_than\" list. (needed to see where kth element is )\n",
    "    L = len(less_than)\n",
    "\n",
    "    if k <= L:  #if it's in the elements in less than,\n",
    "        return select(less_than, k)  #Recursively select from the left\n",
    "    elif k > L + len(equal_to):  #if it's not in less tham but after,\n",
    "        return select(greater_than, k - (L + len(equal_to)))  # Select from the right\n",
    "    else:\n",
    "        return equal_to[0]  # The pivot itself is the k-th smallest\n",
    "\n",
    "kth_smallest = select(A, k)\n",
    "\n",
    "print(kth_smallest)"
   ]
  }
 ],
 "metadata": {
  "kernelspec": {
   "display_name": "base",
   "language": "python",
   "name": "python3"
  },
  "language_info": {
   "codemirror_mode": {
    "name": "ipython",
    "version": 3
   },
   "file_extension": ".py",
   "mimetype": "text/x-python",
   "name": "python",
   "nbconvert_exporter": "python",
   "pygments_lexer": "ipython3",
   "version": "3.11.5"
  }
 },
 "nbformat": 4,
 "nbformat_minor": 2
}
