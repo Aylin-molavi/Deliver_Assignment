{
 "cells": [
  {
   "cell_type": "code",
   "execution_count": null,
   "metadata": {},
   "outputs": [],
   "source": [
    "import pandas as pd"
   ]
  },
  {
   "cell_type": "code",
   "execution_count": null,
   "metadata": {},
   "outputs": [
    {
     "data": {
      "text/plain": [
       "Seq('CGACAGAGAAACCTCTGTCTTTGGGTCGCTCTCTATCTGACTTTGAAGCTGCCA...TA\n",
       "')"
      ]
     },
     "execution_count": 7,
     "metadata": {},
     "output_type": "execute_result"
    }
   ],
   "source": [
    "# Nome del file da leggere\n",
    "filename = 'Dataset/rosalind_revc.txt'  # Assicurati che questo file esista nella tua cartella di lavoro\n",
    "\n",
    "# Apertura del file in modalità lettura\n",
    "with open(filename, 'r', encoding='utf-8') as file:\n",
    "    # Leggi tutto il contenuto del file\n",
    "    dna = file.read()\n"
   ]
  },
  {
   "cell_type": "code",
   "execution_count": 18,
   "metadata": {},
   "outputs": [
    {
     "name": "stdout",
     "output_type": "stream",
     "text": [
      "ACCGGGTTTT\n"
     ]
    }
   ],
   "source": [
    "#Bioinformatics Stronghold \n",
    "#revc\n",
    "from Bio.Seq import Seq\n",
    "def reversedDNA (dna):\n",
    "    if dna == \"\":\n",
    "        return \"\"\n",
    "    else:\n",
    "        return dna.reverse_complement()\n",
    "    \n",
    "dna = Seq(\"AAAACCCGGT\")\n",
    "print(reversedDNA(dna))    "
   ]
  }
 ],
 "metadata": {
  "kernelspec": {
   "display_name": "base",
   "language": "python",
   "name": "python3"
  },
  "language_info": {
   "codemirror_mode": {
    "name": "ipython",
    "version": 3
   },
   "file_extension": ".py",
   "mimetype": "text/x-python",
   "name": "python",
   "nbconvert_exporter": "python",
   "pygments_lexer": "ipython3",
   "version": "3.11.5"
  }
 },
 "nbformat": 4,
 "nbformat_minor": 2
}
