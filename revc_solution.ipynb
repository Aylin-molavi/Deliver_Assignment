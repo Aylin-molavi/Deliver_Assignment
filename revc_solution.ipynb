{
 "cells": [
  {
   "cell_type": "code",
   "execution_count": null,
   "metadata": {},
   "outputs": [],
   "source": [
    "import pandas as pd"
   ]
  },
  {
   "cell_type": "code",
   "execution_count": null,
   "metadata": {},
   "outputs": [],
   "source": [
    "#Bioinformatics Stronghold \n",
    "#revc\n",
    "from Bio.Seq import Seq\n",
    "def reversedDNA (dna):\n",
    "    if dna == \"\":\n",
    "        return \"\"\n",
    "    else:\n",
    "        return dna.reverse_complement(inplace=False)\n",
    "    \n",
    "dna = Seq(\"AAAACCCGGT\")\n",
    "print(reversedDNA(dna))    "
   ]
  }
 ],
 "metadata": {
  "kernelspec": {
   "display_name": "base",
   "language": "python",
   "name": "python3"
  },
  "language_info": {
   "name": "python",
   "version": "3.11.5"
  }
 },
 "nbformat": 4,
 "nbformat_minor": 2
}
