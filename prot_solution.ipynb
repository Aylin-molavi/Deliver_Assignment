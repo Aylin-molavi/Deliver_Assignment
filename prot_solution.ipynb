{
 "cells": [
  {
   "cell_type": "code",
   "execution_count": 1,
   "metadata": {},
   "outputs": [
    {
     "name": "stderr",
     "output_type": "stream",
     "text": [
      "c:\\Users\\user\\anaconda3\\Lib\\site-packages\\pandas\\core\\arrays\\masked.py:60: UserWarning: Pandas requires version '1.3.6' or newer of 'bottleneck' (version '1.3.5' currently installed).\n",
      "  from pandas.core import (\n"
     ]
    }
   ],
   "source": [
    "import pandas as pd"
   ]
  },
  {
   "cell_type": "code",
   "execution_count": 2,
   "metadata": {},
   "outputs": [],
   "source": [
    "with open('Dataset/rosalind_prot (1).txt', 'r') as file:\n",
    "    rna = file.read()  "
   ]
  },
  {
   "cell_type": "code",
   "execution_count": 3,
   "metadata": {},
   "outputs": [
    {
     "name": "stdout",
     "output_type": "stream",
     "text": [
      "Requirement already satisfied: Bio in c:\\users\\user\\anaconda3\\lib\\site-packages (1.7.1)\n",
      "Requirement already satisfied: biopython>=1.80 in c:\\users\\user\\anaconda3\\lib\\site-packages (from Bio) (1.84)\n",
      "Requirement already satisfied: gprofiler-official in c:\\users\\user\\anaconda3\\lib\\site-packages (from Bio) (1.0.0)\n",
      "Requirement already satisfied: mygene in c:\\users\\user\\anaconda3\\lib\\site-packages (from Bio) (3.2.2)\n",
      "Requirement already satisfied: pandas in c:\\users\\user\\anaconda3\\lib\\site-packages (from Bio) (2.2.3)\n",
      "Requirement already satisfied: pooch in c:\\users\\user\\anaconda3\\lib\\site-packages (from Bio) (1.8.2)\n",
      "Requirement already satisfied: requests in c:\\users\\user\\anaconda3\\lib\\site-packages (from Bio) (2.31.0)\n",
      "Requirement already satisfied: tqdm in c:\\users\\user\\anaconda3\\lib\\site-packages (from Bio) (4.65.0)\n",
      "Requirement already satisfied: numpy in c:\\users\\user\\anaconda3\\lib\\site-packages (from biopython>=1.80->Bio) (1.24.3)\n",
      "Requirement already satisfied: biothings-client>=0.2.6 in c:\\users\\user\\anaconda3\\lib\\site-packages (from mygene->Bio) (0.3.1)\n",
      "Requirement already satisfied: python-dateutil>=2.8.2 in c:\\users\\user\\anaconda3\\lib\\site-packages (from pandas->Bio) (2.8.2)\n",
      "Requirement already satisfied: pytz>=2020.1 in c:\\users\\user\\anaconda3\\lib\\site-packages (from pandas->Bio) (2023.3.post1)\n",
      "Requirement already satisfied: tzdata>=2022.7 in c:\\users\\user\\anaconda3\\lib\\site-packages (from pandas->Bio) (2023.3)\n",
      "Requirement already satisfied: platformdirs>=2.5.0 in c:\\users\\user\\anaconda3\\lib\\site-packages (from pooch->Bio) (3.10.0)\n",
      "Requirement already satisfied: packaging>=20.0 in c:\\users\\user\\anaconda3\\lib\\site-packages (from pooch->Bio) (23.1)\n",
      "Requirement already satisfied: charset-normalizer<4,>=2 in c:\\users\\user\\anaconda3\\lib\\site-packages (from requests->Bio) (2.0.4)\n",
      "Requirement already satisfied: idna<4,>=2.5 in c:\\users\\user\\anaconda3\\lib\\site-packages (from requests->Bio) (3.4)\n",
      "Requirement already satisfied: urllib3<3,>=1.21.1 in c:\\users\\user\\anaconda3\\lib\\site-packages (from requests->Bio) (1.26.16)\n",
      "Requirement already satisfied: certifi>=2017.4.17 in c:\\users\\user\\anaconda3\\lib\\site-packages (from requests->Bio) (2023.7.22)\n",
      "Requirement already satisfied: colorama in c:\\users\\user\\anaconda3\\lib\\site-packages (from tqdm->Bio) (0.4.6)\n",
      "Requirement already satisfied: six>=1.5 in c:\\users\\user\\anaconda3\\lib\\site-packages (from python-dateutil>=2.8.2->pandas->Bio) (1.16.0)\n"
     ]
    }
   ],
   "source": [
    "!pip install Bio\n",
    "from Bio.Seq import Seq   \n",
    "#bioseq has the tool for tranlating a RNA string into aminoacids"
   ]
  },
  {
   "cell_type": "code",
   "execution_count": 4,
   "metadata": {},
   "outputs": [
    {
     "name": "stdout",
     "output_type": "stream",
     "text": [
      "MTSLASMPNVRIFVNQAHEAFTKKKFDNVASELRHTPLTHHVNGQYQNNVGIARSARLYANPLAVLFAITPWVIHTAKGCYDRNVAGWADLDRRTHRWAPRSSHTTTLKESQPKYAFHRLSCTSVLTPVEFYPKPVERCAARAQSHRLAGSLRTPGAFKHPCYSGSETGQGVPANDSARVAYKSSCFCAALKGPGLTKVRVRRRIMETRFHRMPRSDNCAADLLSLHAQGSHSSPLTTCGKKLLGQVQVIGMDRKPGAVFGPSRPFTAPPSILEEPVAVTANVQQLPQLILSRQSAYPRQARGVTHNVSIKCQKRSSIHRTPQIMYVAIPEFQSQVENIATLLSRDPGTPSRFENVHETVVLNIAMLPAEDHTSEDLEVVLSKGLHGVKPLHTPSPGASVCAPESRFSLFKLAASLEKEMPITHYLIDRVERERLDWNPVCRLNRACVKVHIEGGFQTDTSAPVDLVPPLFYLFAGVCGVGTFSVVVQFSRGNSGVIVYPFLLPAHGYGELCRAEIQQSNKRKAINGGSLATFNSPIQLYIQYPGPKDWPLRMAYDAGEQEFRIRSARSPSNSGSRVYLSYAIPDSAVPIPPEPHWVDGITVSEFFIESNSGAAITGSRVPGRIEPHLVITGVYDIPGGIRSRGPRNMRITSTCPASGRHGPGAPVCSKSERAMPRPSITHTVNHTSSKTKASAHTCGEVVPQDVLPTGRGHEPCPPSCPCSPPGSCGSARPADRLCLGAEAVSCASTLFNGPAKFLETLRYSLIRSKILAVNLLHRTDSQTGGITSPQCHVRLRAMPTARRIRQSHIYSVPVIFTRSLTSQRDVGPECSGPCHARVPQVSNTGGPSHGAPPNVMQAERYDQWLAVVHTNDCIGITSGLLGNGHSSPRNDISRLTSTHVKNALVLPYTPNHRINPPDCTSYKWALRPIPTHEHCISRGKLHYTLAAPIVVPYKLTLTCKKTWSPRLNDVPRLYTDWILIEGSFISAVVQTTIDRSLRQRIQGGNMRIEWQWLLWCQFDKLAQHSLNTLLSWAENIFGMVTRTRHQNHIIGFDPEECRQKNPMHRLTEGAARNAVFASSVFVAGCVKHQLEARGGRVLPSLCLEQAVLEVDSPVKKATTREALHKEGVPPLINVSNRYSIHVVSTMVTAREICPTCDELNPPRRESRIGTSLHPNVEIGCCNVDAVHMNTIQSMVTISLAGAIGCSVNLIQRVFPTLFRTMPSRTFPPAFHWSTIETSSRWNSDCAIASTMLDAAFKTHLDRSQQGSAGLRGDGRFECVGGFKDAINDEPPKLVIYLPACPTHAGGVDTIRILRVDPFAALNSCHRPPTYLHETLPRTASRVMWLRLSTVIVCIRNWKGDAGLRWYETEQSYQGNPKKICRIPYTPVIDFIRGSVAVIPISHEHASRQSYPPNCVPPRAAATFASTGKRLVDEQSAGLTIRSFREVPLLRVDKRPRNRLTVVRRRRCAALDGTCFCRGKVNGYATDLCLSKHLYYRGYFPLRQRSIIEAKEWSATGLLASCSYMLFFTHVFLAFQQGYRKPGRSHDKRSPEGHNNKETDDMIITAKKNGKELNYSVSPLTQTSLCPGTAIACLESLLPDQHLRRIRWGGEAYLYQVANLLTLPRSFGQYSVCTNPLSKYAYLRNHGNTNSVIGLVNTDTGANGVRESLAAAAALRSLHQRDVSYVGFLSGRTHQTPSQVPMWREELGRHCDCKAVVHRQEPCIRHIKFLYNRIRADCVAHASGDLPTRTVNTLSQCIAYRPKKLRLSVHLVPCHGPDTLTSCSLCYAPRFRVVGYFSQLSAPDSVVGSSEDPRYDCYRCTEAPEAHLMPFEETMLPISPGTTTLHAMPFQVGELDSKFWVEPLKTYSELQMSLTTILGGTLTGTRRSTTESISVATCRIFGRRGSCLILLRLIVWLGIRLGIHNSWDMWYVDQRSAVRCGSNPRRDESRVSIPSGSQPGFVSSVTNPEGGSMSWPAWRGTSIIGLTSGKTFLKTEKLKWLITSVCPISQRCRYSLRRLRMIKFREPRGVLRTDSSSGGSDSRTSIKPKSSCRMSLCWTVALSFQEIPADSLVVAATDRLVATSLTLCKAPEWRYGLRTIACGTDTRRSSPRAAPKRLHQHNLVRGSMKRVTTKCQCRSISRSYPALGTRVGVNAIHYGAISAQSGDARFITLPHNLYDNAVLIDTISACPTSAPNYQCVKLVSRHSQPYTHDVVHPPSPSGVASAAWALPSVTSKPMLLVAGKSKRRQIPLIPSSPQPLRVVFTGLAMGRSCLVHIYNIPLYRYPVTCSLWLAVISFLLPTISDDQYWHVRLHDSTHSIHRTRVEGTYRKTSSSSRGSINNALRILYWRREKASEAIHLLQSSIRQVQISLKVVRDPTMKFFKKLPCRLMEDPAGRKELACPHSQHACFKPSERGFLRIHSRDVRSMRVGPHNHPTGDIDAQIVGIIAAGVGKFLELTRFCLPVTWFSISYATITTRYYKLSERGAMTNVQRRGCIHTGRGLVYVQLRADWAYRFDTCLETSFGNTRRRTYVYMRAGRARFWGMRSIRTAPCLPIRLKSPTFTHPSDQAFQPPRSGPDHRNGRCYPLANVAFDVSAEWGYRHFSHRRLCRSVLNSQGRCSQGLLIDNAHVCVARSVNVGNVLMGLMVEITTIAVLGLLMLIIAGRSEPTNFTGTYPLQDARSICTVNKRCSPLQRDHRYYTVFALLTRSCMKVVGKLFAAILGYIKRPVAVILADTHQNHVEEDAVRLSSHWLPVRCLPPLDLWLRHRKSPKRQPRSRPQGLGQDCLPCRLILYYAVILGHTYAVGNYVGSIFSITSRGGLASGPLHEAGEHVMAGKYAQSWAVVDDILPSMCFPLKCCDTLSPILRVPGHGGGTLSVHAACSPYYAAGSASALFKYTDAPGDNLRVSLACTDVPFRSLRRDTQLEVIGELCPRGVYYYFMPRRLMIRDEGLRLWLQLVTRSGGRVSYGQLRNLVPEETMKLANKQNRRYDACVLLRPCHPKLGLTPLCSSPQDCCRSVYDSARTDDRVWPYSIFIALSWFLPPAIKTSLAGCAHRGDCPRASRSGAPSQSGRHTRLTSPDSRPGCAHHAQLRYAHGSNSEFMSRPGNTSWVTALLLHANLGDRSLKIYSFLLTSKSVYLGLHNPMSRSLSFSDSYYAIRITPEVSARIVLVMRQKIRSLVTLQPPR*\n"
     ]
    },
    {
     "name": "stderr",
     "output_type": "stream",
     "text": [
      "c:\\Users\\user\\anaconda3\\Lib\\site-packages\\Bio\\Seq.py:2879: BiopythonWarning: Partial codon, len(sequence) not a multiple of three. Explicitly trim the sequence or add trailing N before translation. This may become an error in future.\n",
      "  warnings.warn(\n"
     ]
    }
   ],
   "source": [
    "rna_seq = Seq(rna)\n",
    "protein = rna_seq.translate()   #command for translation\n",
    "\n",
    "#resulting protein string\n",
    "print(protein)"
   ]
  }
 ],
 "metadata": {
  "kernelspec": {
   "display_name": "base",
   "language": "python",
   "name": "python3"
  },
  "language_info": {
   "codemirror_mode": {
    "name": "ipython",
    "version": 3
   },
   "file_extension": ".py",
   "mimetype": "text/x-python",
   "name": "python",
   "nbconvert_exporter": "python",
   "pygments_lexer": "ipython3",
   "version": "3.11.5"
  }
 },
 "nbformat": 4,
 "nbformat_minor": 2
}
