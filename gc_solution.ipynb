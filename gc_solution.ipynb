{
 "cells": [
  {
   "cell_type": "code",
   "execution_count": 1,
   "metadata": {},
   "outputs": [
    {
     "name": "stderr",
     "output_type": "stream",
     "text": [
      "c:\\Users\\user\\anaconda3\\Lib\\site-packages\\pandas\\core\\arrays\\masked.py:60: UserWarning: Pandas requires version '1.3.6' or newer of 'bottleneck' (version '1.3.5' currently installed).\n",
      "  from pandas.core import (\n"
     ]
    }
   ],
   "source": [
    "import pandas as pd"
   ]
  },
  {
   "cell_type": "code",
   "execution_count": 2,
   "metadata": {},
   "outputs": [],
   "source": [
    "with open('Dataset/rosalind_gc.txt', 'r') as file:\n",
    "    dna = file.read()"
   ]
  },
  {
   "cell_type": "code",
   "execution_count": null,
   "metadata": {},
   "outputs": [],
   "source": [
    "!pip install Bio"
   ]
  },
  {
   "cell_type": "code",
   "execution_count": 4,
   "metadata": {},
   "outputs": [],
   "source": [
    "from Bio.Seq import Seq\n",
    "from Bio.SeqRecord import SeqRecord"
   ]
  },
  {
   "cell_type": "code",
   "execution_count": null,
   "metadata": {},
   "outputs": [],
   "source": [
    "simple_seq = Seq(dna)\n",
    "simple_seq_rec = SeqRecord(simple_seq)\n",
    "from Bio import SeqIO\n",
    "#record = SeqIO.read(\"Dataset/rosalind_gc(2).txt\", \"fasta\")\n"
   ]
  },
  {
   "cell_type": "code",
   "execution_count": 7,
   "metadata": {},
   "outputs": [
    {
     "name": "stdout",
     "output_type": "stream",
     "text": [
      "Rosalind_2912\n",
      "52.996475\n"
     ]
    }
   ],
   "source": [
    "max_gc_content = 0\n",
    "max_gc_id = \"\"\n",
    "\n",
    "for seq_record in SeqIO.parse(\"Dataset/rosalind_gc (2).txt\", \"fasta\"): # fasta file\n",
    "   GC_content = (seq_record.seq.count(\"G\")+seq_record.seq.count(\"C\")) / len(seq_record.seq) * 100    #calculating the GC contents in percentage\n",
    "   if GC_content > max_gc_content:\n",
    "        max_gc_content = GC_content\n",
    "        max_gc_id = seq_record.id\n",
    "\n",
    "print(max_gc_id)\n",
    "print(f\"{max_gc_content:.6f}\")  # 6 decimal places like the sample output\n",
    "\n",
    "#remember to put the..+.. inside (), otherwise wouldn't give percentage\n",
    "\n"
   ]
  }
 ],
 "metadata": {
  "kernelspec": {
   "display_name": "base",
   "language": "python",
   "name": "python3"
  },
  "language_info": {
   "codemirror_mode": {
    "name": "ipython",
    "version": 3
   },
   "file_extension": ".py",
   "mimetype": "text/x-python",
   "name": "python",
   "nbconvert_exporter": "python",
   "pygments_lexer": "ipython3",
   "version": "3.11.5"
  }
 },
 "nbformat": 4,
 "nbformat_minor": 2
}
