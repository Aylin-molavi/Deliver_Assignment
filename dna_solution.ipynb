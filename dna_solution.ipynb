{
 "cells": [
  {
   "cell_type": "code",
   "execution_count": null,
   "metadata": {},
   "outputs": [],
   "source": [
    "import pandas as pd"
   ]
  },
  {
   "cell_type": "code",
   "execution_count": 5,
   "metadata": {},
   "outputs": [],
   "source": [
    "# dna txt read\n",
    "\n",
    "with open('Dataset/rosalind_dna.txt', 'r') as file:\n",
    "    dna = file.read()  "
   ]
  },
  {
   "cell_type": "code",
   "execution_count": 6,
   "metadata": {},
   "outputs": [
    {
     "name": "stdout",
     "output_type": "stream",
     "text": [
      "226 238 234 229\n"
     ]
    }
   ],
   "source": [
    "#Bioinformatics Stronghold \n",
    "#DNA\n",
    "def nucleotides (dna):\n",
    "    A= dna.count (\"A\")\n",
    "    C= dna.count(\"C\")\n",
    "    G = dna.count(\"G\")\n",
    "    T = dna.count(\"T\")\n",
    "\n",
    "\n",
    "    return f\"{A} {C} {G} {T}\"   \n",
    "    \n",
    "print(nucleotides (dna))"
   ]
  }
 ],
 "metadata": {
  "kernelspec": {
   "display_name": "base",
   "language": "python",
   "name": "python3"
  },
  "language_info": {
   "codemirror_mode": {
    "name": "ipython",
    "version": 3
   },
   "file_extension": ".py",
   "mimetype": "text/x-python",
   "name": "python",
   "nbconvert_exporter": "python",
   "pygments_lexer": "ipython3",
   "version": "3.11.5"
  }
 },
 "nbformat": 4,
 "nbformat_minor": 2
}
