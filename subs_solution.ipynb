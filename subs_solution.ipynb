{
 "cells": [
  {
   "cell_type": "code",
   "execution_count": 1,
   "metadata": {},
   "outputs": [
    {
     "name": "stderr",
     "output_type": "stream",
     "text": [
      "c:\\Users\\user\\anaconda3\\Lib\\site-packages\\pandas\\core\\arrays\\masked.py:60: UserWarning: Pandas requires version '1.3.6' or newer of 'bottleneck' (version '1.3.5' currently installed).\n",
      "  from pandas.core import (\n"
     ]
    }
   ],
   "source": [
    "import pandas as pd"
   ]
  },
  {
   "cell_type": "code",
   "execution_count": 2,
   "metadata": {},
   "outputs": [],
   "source": [
    "#with open('Dataset/rosalind_subs (2).txt', 'r') as file:\n",
    "    #dna = file.read()  "
   ]
  },
  {
   "cell_type": "code",
   "execution_count": 3,
   "metadata": {},
   "outputs": [
    {
     "name": "stdout",
     "output_type": "stream",
     "text": [
      "2 9 31 38 55 122 129 136 161 168 212 219 226 296 303 320 327 405 502 556 573 598 657 680 687 694 701 708 742 784\n"
     ]
    }
   ],
   "source": [
    "dna = \"TAATCCCGTATCCCGTATCCCGTTCACGTCTATCCCGTATCCCGTATCCCGTGAAATCCCGTATCCCGTGATCCCGTAATCCCGTGACTTATCCCGTTCGGATCCCGTCATCCCGTTGCTCGATCCCGTATCCCGTATCCCGTATCCCGTAATCCCGTAGTATCCCGTATCCCGTATCCCGTTATCATCCCGTTAAATCCCGTGATCCCGTTATCCCGTATCCCGTATCCCGTATCCCGTGTCATCCCGTACTCCATCCCGTTCCGACATCCCGTTATCCCGTTAAAAATCCCGTGATCCCGTATCCCGTATATCCCGTCATCCCGTATCCCGTATCCCGTCGATCCCGTGTATCCCGTGTTTTCATCCCGTGATTCTCGATCCCGTACATCCCGTAATCCCGTTATCCCGTATCAATCCCGTCTCATCCCGTCAATCCCGTGCAATCCCGTGGAATCCCGTAATCGTCTGATCCCGTTCCCATCCCGTCATCCCGTTGTGCATCCCGTATCCCGTGGATCCCGTCAAATCCCGTGTCAAATATCCCGTACTTCGCATCCCGTATCCCGTCTCATCCCGTATCCCGTCCATCCCGTCAATCCCGTATCCCGTAACCGTCAGATCCCGTCGGAATCCCGTAATCCGATCCCGTGGTTGATCCCGTATATACCATCCCGTCCATCCCGTATCCCGTATCCCGTATCCCGTATCCCGTATCCCGTAGATCCCGTGCATCCCGTTGATCCCGTATCCCGTAATCCCGTAAAATCCCGTTAATCCCGTAATCCCGTATCCCGTCCATCCCGT\"\n",
    "substring = \"ATCCCGTAT\"\n",
    "sub_position = dna.find(substring)\n",
    "\n",
    "# Initialize an empty list to store positions\n",
    "positions = []\n",
    "start = 1\n",
    "\n",
    "# Loop to find all occurrences\n",
    "while True:\n",
    "    sub_position = dna.find(substring, start)\n",
    "    if sub_position == -1:  # No more occurrences\n",
    "        break\n",
    "    positions.append(sub_position)\n",
    "    start = sub_position + 1  # Move start index to find the next occurrence\n",
    "\n",
    "# Output all positions\n",
    "print(\" \".join(str(pos) for pos in positions))"
   ]
  },
  {
   "cell_type": "code",
   "execution_count": 4,
   "metadata": {},
   "outputs": [
    {
     "name": "stdout",
     "output_type": "stream",
     "text": [
      "31 38 45 90 97 104 126 153 194 213 220 235 252 285 327 346 361 382 401 408 434 461 478 493 500 534 552 559 566 634 685 731 738 757 772 790\n"
     ]
    }
   ],
   "source": [
    "# Define the main string and the substring\n",
    "dna = \"AGGTATCGCCAGGTATCGGAGGTATCGATCGGTATCGGGTATCGGGTATCGGGTATCGCAGGTATCGATGTCGCGGGGGTATCGTGCACGGTATCGGGTATCGGGTATCGGGAACGGGTATCGCGGGTATCGGGAACCTGTGTGGTATCGCGGGTATCGGGGTATCGCCGGTATCGTAATCGTGCGGTATCGAGGTATCGGGTATCGTCTTTGGTATCGGGTATCGGGTATCGCGGTATCGGGTATCGTACGGTATCGGGTATCGCGGTATCGATCGGTATCGAGGTATCGGGGGTATCGCGAAAACGGTATCGCACGGTATCGCGGGTATCGGGTATCGAGATAGGTATCGGGTATCGAGGTATCGGGGTATCGACATCGGGTATCGGGGTATCGGACTGGTATCGGGTATCGGGTATCGTTTGGTATCGCGGGTATCGGGTATCGAAAACGGTATCGAGGTATCGGGTATCGAAGGGTATCGGGTATCGTGGTATCGGGTATCGGGTATCGAGCTTTGTGGGGGTATCGTTGGTATCGGGTATCGCGGGGGTATCGGGTATCGGGTATCGGGTATCGATGGTATCGTCGGTATCGCGCACGGTATCGTGGTATCGAGCAAGGGGTATCGCTGGTATCGGGTATCGCTGGTATCGTGGCTGACCATGGTCGGGTATCGAATCAGGTATCGGGTATCGAGGTATCGGCTTGGTGGTATCGTGGTATCGTGGGTATCGGGTATCGGGTATCGCAGATGGTATCGGGTATCGCGGTATCGGGGTATCGTATGGTATCGGGTATCGTGGTATCG\"\n",
    "substring = \"GGTATCGGG\"\n",
    "\n",
    "# Initialize an empty list to store positions\n",
    "positions = []\n",
    "start = 1  # Start from index 1 for the first search (normally 0 but different in rosalind apparently)\n",
    "\n",
    "# find all occurrences\n",
    "while True:\n",
    "    sub_position = dna.find(substring, start)\n",
    "    if sub_position == -1:  # No more occurrences\n",
    "        break\n",
    "    positions.append(sub_position)\n",
    "    start = sub_position + 1  # Move start index to find the next occurrence (overlapping)\n",
    "\n",
    "# Output all positions\n",
    "print(\" \".join(str(pos+1) for pos in positions))\n",
    "\n",
    "#don't forget to put the +1 s so overlapped ones don't ruin the code!\n"
   ]
  }
 ],
 "metadata": {
  "kernelspec": {
   "display_name": "base",
   "language": "python",
   "name": "python3"
  },
  "language_info": {
   "codemirror_mode": {
    "name": "ipython",
    "version": 3
   },
   "file_extension": ".py",
   "mimetype": "text/x-python",
   "name": "python",
   "nbconvert_exporter": "python",
   "pygments_lexer": "ipython3",
   "version": "3.11.5"
  }
 },
 "nbformat": 4,
 "nbformat_minor": 2
}
