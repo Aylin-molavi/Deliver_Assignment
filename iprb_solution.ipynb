{
 "cells": [
  {
   "cell_type": "code",
   "execution_count": 2,
   "metadata": {},
   "outputs": [
    {
     "name": "stderr",
     "output_type": "stream",
     "text": [
      "c:\\Users\\user\\anaconda3\\Lib\\site-packages\\pandas\\core\\arrays\\masked.py:60: UserWarning: Pandas requires version '1.3.6' or newer of 'bottleneck' (version '1.3.5' currently installed).\n",
      "  from pandas.core import (\n"
     ]
    }
   ],
   "source": [
    "import pandas as pd"
   ]
  },
  {
   "cell_type": "code",
   "execution_count": 3,
   "metadata": {},
   "outputs": [],
   "source": [
    "with open('Dataset/rosalind_iprb.txt', 'r') as file:\n",
    "    dna = file.read()"
   ]
  },
  {
   "cell_type": "code",
   "execution_count": 9,
   "metadata": {},
   "outputs": [
    {
     "name": "stdout",
     "output_type": "stream",
     "text": [
      "0.73333\n"
     ]
    }
   ],
   "source": [
    "def calculate_probability(k, m, n):\n",
    "    # Total population\n",
    "    total = k + m + n\n",
    "    \n",
    "    # Total ways to choose 2 individuals\n",
    "    total_ways = (total * (total - 1)) / 2\n",
    "    \n",
    "    # Calculate the number of favorable outcomes\n",
    "    favorable_outcomes = (\n",
    "        (k * (k - 1) / 2) * 1 +  # AA x AA\n",
    "        (k * m) * 1 +             # AA x Aa\n",
    "        (k * n) * 1 +             # AA x aa\n",
    "        (m * (m - 1) / 2) * 0.75 + # Aa x Aa\n",
    "        (m * n) * 0.5 +           # Aa x aa\n",
    "        0                          # aa x aa\n",
    "    )\n",
    "    \n",
    "    # Calculating the probability of outcomes with a dominant allele:\n",
    "    probability = favorable_outcomes / total_ways\n",
    "    \n",
    "    return probability\n",
    "\n",
    "\n",
    "k = 16\n",
    "m = 17\n",
    "n = 18\n",
    "\n",
    "# Calculate the probability\n",
    "prob = calculate_probability(k, m, n)\n",
    "\n",
    "# Print only the probability as a number\n",
    "print(f\"{prob:.5f}\")\n",
    "\n",
    "# 73.71% chance that two randomly selected organisms will produce an offspring with at least one dominant allele."
   ]
  }
 ],
 "metadata": {
  "kernelspec": {
   "display_name": "base",
   "language": "python",
   "name": "python3"
  },
  "language_info": {
   "codemirror_mode": {
    "name": "ipython",
    "version": 3
   },
   "file_extension": ".py",
   "mimetype": "text/x-python",
   "name": "python",
   "nbconvert_exporter": "python",
   "pygments_lexer": "ipython3",
   "version": "3.11.5"
  }
 },
 "nbformat": 4,
 "nbformat_minor": 2
}
